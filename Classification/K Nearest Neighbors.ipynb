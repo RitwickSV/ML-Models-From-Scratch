{
 "cells": [
  {
   "cell_type": "markdown",
   "metadata": {},
   "source": [
    "## Theoretical Concept\n",
    "Basically KNN, as the name suggests, K Nearest Neighbors is where the classification of a new datapoint depends on it's nearest neighbors (datapoints which are similar to it/ datapoints which are closer to it).\n",
    "\n",
    "To calculate the distance between two points we can use any of the following distances - \n",
    " - <a href=\"https://www.wikiwand.com/en/Euclidean_distance\">Euclidean Distance</a>\n",
    " - <a href=\"https://www.wikiwand.com/en/Taxicab_geometry\">Manhattan Distance</a>\n",
    " - <a href=\"https://www.youtube.com/watch?v=ieMjGVYw9ag\">Cosine Distance</a>\n",
    " \n",
    " "
   ]
  },
  {
   "cell_type": "markdown",
   "metadata": {},
   "source": [
    "## Dataset\n",
    "\n",
    "We will be using the famous iris datasets from `sklearn.datasets`. The data set consists of 50 samples from each of three species of Iris -\n",
    " - Iris setosa\n",
    " - Iris virginica\n",
    " - Iris versicolor"
   ]
  },
  {
   "cell_type": "markdown",
   "metadata": {},
   "source": [
    "## Importing the modules"
   ]
  },
  {
   "cell_type": "code",
   "execution_count": 7,
   "metadata": {},
   "outputs": [],
   "source": [
    "import numpy as np\n",
    "from sklearn.metrics import accuracy_score #To calculate the accuracy of the model\n",
    "from sklearn.datasets import load_iris #The iris dataset\n",
    "from numpy.random import randint #Random generator\n",
    "from scipy.stats import mode #To calculate the mode of a given data\n",
    "from scipy.spatial import distance as dis #To calculate euclidean distance"
   ]
  },
  {
   "cell_type": "markdown",
   "metadata": {},
   "source": [
    "## Function to predict the label using KNN"
   ]
  },
  {
   "cell_type": "code",
   "execution_count": 8,
   "metadata": {},
   "outputs": [],
   "source": [
    "def fx_knn(train_data, train_labels, test_data, k):\n",
    "    labels_pred = []\n",
    "    for item in test_data: #Looping through the data which is to be classified\n",
    "        \n",
    "        #To store the distances\n",
    "        point_dist = []\n",
    "        \n",
    "        #Calculate and append the distances with each point in the train data\n",
    "        for row_index in range(len(train_data)):\n",
    "            distance = dis.euclidean(train_data[row_index,:], item)\n",
    "            point_dist.append(distance)\n",
    "        point_dist = np.array(point_dist)\n",
    "        \n",
    "        near_indices = np.argsort(point_dist)[:k] #Get the indices of the k closest points\n",
    "        \n",
    "        labels = train_labels[near_indices] #Labels of the closest points\n",
    "        \n",
    "        #voting to get the label\n",
    "        lab = mode(labels) \n",
    "        lab = lab.mode[0]\n",
    "        labels_pred.append(lab)\n",
    "    \n",
    "    return labels_pred #Returns the predicted labels\n",
    "            \n",
    "    "
   ]
  },
  {
   "cell_type": "markdown",
   "metadata": {},
   "source": [
    "## Call the function with iris data"
   ]
  },
  {
   "cell_type": "code",
   "execution_count": 9,
   "metadata": {},
   "outputs": [
    {
     "name": "stdout",
     "output_type": "stream",
     "text": [
      "[2, 2, 0, 2, 2, 2, 2, 0, 2, 0, 0, 2, 2, 2, 2, 1, 1, 2, 1, 2, 1, 1, 1, 1, 1, 1, 1, 0, 0, 2, 2, 1, 0, 1, 1, 0, 2, 0, 1, 2, 1, 0, 0, 0, 2, 1, 0, 2, 2, 1]\n"
     ]
    }
   ],
   "source": [
    "iris = load_iris()\n",
    "X = iris.data #To store the features matrix\n",
    "y = iris.target #To store the labels\n",
    "\n",
    "#Creating the training Data\n",
    "train_random_indices = randint(0,150,100)\n",
    "train_data = X[train_random_indices]\n",
    "train_labels = y[train_random_indices]\n",
    " \n",
    "#Creating the testing Data\n",
    "test_random_indices = randint(0,150,50) #taking 50 random samples\n",
    "test_data = X[test_random_indices]\n",
    "test_labels = y[test_random_indices]\n",
    "\n",
    "#Get the set of predicted labels for test_data\n",
    "\n",
    "labels_pred = fx_knn(train_data, train_labels, test_data, 5) #Using 5 nearest neighbors\n",
    "print(labels_pred)\n",
    "\n"
   ]
  },
  {
   "cell_type": "markdown",
   "metadata": {},
   "source": [
    "We have now gotten the predicted labels for our KNN function for the random test_data. \n",
    "\n",
    "Now let's calculate the accuracy of the model that we have generated:"
   ]
  },
  {
   "cell_type": "code",
   "execution_count": 10,
   "metadata": {},
   "outputs": [
    {
     "name": "stdout",
     "output_type": "stream",
     "text": [
      "The accuracy of the model generated with 5 nearest neighbors is 0.96\n"
     ]
    }
   ],
   "source": [
    "print(f'The accuracy of the model generated with 5 nearest neighbors is {accuracy_score(labels_pred, test_labels)}')"
   ]
  },
  {
   "cell_type": "code",
   "execution_count": null,
   "metadata": {},
   "outputs": [],
   "source": []
  }
 ],
 "metadata": {
  "kernelspec": {
   "display_name": "Python 3",
   "language": "python",
   "name": "python3"
  },
  "language_info": {
   "codemirror_mode": {
    "name": "ipython",
    "version": 3
   },
   "file_extension": ".py",
   "mimetype": "text/x-python",
   "name": "python",
   "nbconvert_exporter": "python",
   "pygments_lexer": "ipython3",
   "version": "3.8.5"
  },
  "latex_envs": {
   "LaTeX_envs_menu_present": true,
   "autoclose": false,
   "autocomplete": true,
   "bibliofile": "biblio.bib",
   "cite_by": "apalike",
   "current_citInitial": 1,
   "eqLabelWithNumbers": true,
   "eqNumInitial": 1,
   "hotkeys": {
    "equation": "Ctrl-E",
    "itemize": "Ctrl-I"
   },
   "labels_anchors": false,
   "latex_user_defs": false,
   "report_style_numbering": false,
   "user_envs_cfg": false
  },
  "toc": {
   "base_numbering": 1,
   "nav_menu": {},
   "number_sections": false,
   "sideBar": true,
   "skip_h1_title": false,
   "title_cell": "Table of Contents",
   "title_sidebar": "Contents",
   "toc_cell": false,
   "toc_position": {},
   "toc_section_display": true,
   "toc_window_display": false
  }
 },
 "nbformat": 4,
 "nbformat_minor": 4
}
